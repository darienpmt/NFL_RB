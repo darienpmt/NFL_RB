{
 "cells": [
  {
   "cell_type": "code",
   "execution_count": 1,
   "metadata": {},
   "outputs": [],
   "source": [
    "%run imports.ipynb\n",
    "\n",
    "pd.set_option('display.float_format', '{:.2f}'.format) "
   ]
  },
  {
   "cell_type": "code",
   "execution_count": 2,
   "metadata": {},
   "outputs": [],
   "source": [
    "ncaa_url = 'https://www.pro-football-reference.com/years/{}/rushing.htm'\n",
    "nfl_url = 'https://www.pro-football-reference.com/years/{}/rushing.htm'"
   ]
  },
  {
   "cell_type": "code",
   "execution_count": 3,
   "metadata": {},
   "outputs": [],
   "source": [
    "years_ncaa = list(range(1965, 2019))\n",
    "\n",
    "years_nfl = list(range(1966, 2019))"
   ]
  },
  {
   "cell_type": "code",
   "execution_count": 4,
   "metadata": {},
   "outputs": [],
   "source": [
    "def getWebData(years, url):\n",
    "    url = url\n",
    "    dfs = []\n",
    "    \n",
    "    for year in years:\n",
    "        \n",
    "        response = requests.get(url.format(year))\n",
    "        \n",
    "        page = response.text\n",
    "        \n",
    "        soup = BeautifulSoup(page, \"lxml\")\n",
    "        \n",
    "        table = soup.find_all('table')\n",
    "        \n",
    "        df = pd.read_html(str(table), header=1, index_col=0)\n",
    "        \n",
    "        df = pd.concat(df)\n",
    "        \n",
    "        dfs.append(df)\n",
    "    \n",
    "    return pd.concat(dfs)"
   ]
  },
  {
   "cell_type": "code",
   "execution_count": 6,
   "metadata": {},
   "outputs": [],
   "source": [
    "ncaa_df = getWebData(years_ncaa, ncaa_url)\n",
    "\n",
    "nfl_df = getWebData(years_nfl, nfl_url)"
   ]
  },
  {
   "cell_type": "code",
   "execution_count": 7,
   "metadata": {},
   "outputs": [],
   "source": [
    "ncaa_df.to_csv('ncaa_data.csv')"
   ]
  },
  {
   "cell_type": "code",
   "execution_count": 8,
   "metadata": {},
   "outputs": [],
   "source": [
    "nfl_df.to_csv('nfl_data.csv')"
   ]
  },
  {
   "cell_type": "code",
   "execution_count": null,
   "metadata": {},
   "outputs": [],
   "source": []
  }
 ],
 "metadata": {
  "kernelspec": {
   "display_name": "Python 3",
   "language": "python",
   "name": "python3"
  },
  "language_info": {
   "codemirror_mode": {
    "name": "ipython",
    "version": 3
   },
   "file_extension": ".py",
   "mimetype": "text/x-python",
   "name": "python",
   "nbconvert_exporter": "python",
   "pygments_lexer": "ipython3",
   "version": "3.7.4"
  },
  "toc": {
   "base_numbering": 1,
   "nav_menu": {},
   "number_sections": true,
   "sideBar": true,
   "skip_h1_title": false,
   "title_cell": "Table of Contents",
   "title_sidebar": "Contents",
   "toc_cell": false,
   "toc_position": {},
   "toc_section_display": true,
   "toc_window_display": false
  }
 },
 "nbformat": 4,
 "nbformat_minor": 4
}
